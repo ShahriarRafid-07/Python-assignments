{
 "cells": [
  {
   "cell_type": "markdown",
   "id": "7ab616f3",
   "metadata": {},
   "source": [
    "1. Write a program that swaps the values of two variables."
   ]
  },
  {
   "cell_type": "code",
   "execution_count": 1,
   "id": "7813bc37",
   "metadata": {},
   "outputs": [],
   "source": [
    "a = 5\n",
    "b = 10"
   ]
  },
  {
   "cell_type": "code",
   "execution_count": 2,
   "id": "d758b0f5",
   "metadata": {},
   "outputs": [
    {
     "name": "stdout",
     "output_type": "stream",
     "text": [
      "Before swapping:\n",
      "a = 5\n",
      "b = 10\n"
     ]
    }
   ],
   "source": [
    "print(\"Before swapping:\")\n",
    "print(\"a =\", a)\n",
    "print(\"b =\", b)"
   ]
  },
  {
   "cell_type": "code",
   "execution_count": 3,
   "id": "d7efbc77",
   "metadata": {},
   "outputs": [],
   "source": [
    "# Swap occurs here\n",
    "a, b = b, a"
   ]
  },
  {
   "cell_type": "code",
   "execution_count": 4,
   "id": "5ad3c1b4",
   "metadata": {},
   "outputs": [
    {
     "name": "stdout",
     "output_type": "stream",
     "text": [
      "After swapping:\n",
      "a = 10\n",
      "b = 5\n"
     ]
    }
   ],
   "source": [
    "print(\"After swapping:\")\n",
    "print(\"a =\", a)\n",
    "print(\"b =\", b)"
   ]
  },
  {
   "cell_type": "code",
   "execution_count": null,
   "id": "0374624f",
   "metadata": {},
   "outputs": [],
   "source": []
  },
  {
   "cell_type": "code",
   "execution_count": null,
   "id": "5023c866",
   "metadata": {},
   "outputs": [],
   "source": []
  },
  {
   "cell_type": "markdown",
   "id": "4cde9242",
   "metadata": {},
   "source": [
    "2. Write a program that calculates the area of a rectangle given its length and width."
   ]
  },
  {
   "cell_type": "code",
   "execution_count": 5,
   "id": "522b3e34",
   "metadata": {},
   "outputs": [
    {
     "name": "stdout",
     "output_type": "stream",
     "text": [
      "Enter the integer value for base: 2\n",
      "Enter the integer value for height: 5\n"
     ]
    }
   ],
   "source": [
    "base = int(input(\"Enter the integer value for base: \"))\n",
    "height = int(input(\"Enter the integer value for height: \"))"
   ]
  },
  {
   "cell_type": "code",
   "execution_count": 6,
   "id": "28751e57",
   "metadata": {},
   "outputs": [],
   "source": [
    "area = 0.5 * base * height"
   ]
  },
  {
   "cell_type": "code",
   "execution_count": 7,
   "id": "248d14d4",
   "metadata": {},
   "outputs": [
    {
     "name": "stdout",
     "output_type": "stream",
     "text": [
      " area of rectangle = 5.0\n"
     ]
    }
   ],
   "source": [
    "print (\" area of rectangle =\", area)"
   ]
  },
  {
   "cell_type": "code",
   "execution_count": null,
   "id": "ed67f4c6",
   "metadata": {},
   "outputs": [],
   "source": []
  },
  {
   "cell_type": "code",
   "execution_count": null,
   "id": "b5117de3",
   "metadata": {},
   "outputs": [],
   "source": []
  },
  {
   "cell_type": "markdown",
   "id": "bab5c1e8",
   "metadata": {},
   "source": [
    "3. Write a program that converts temperature from Fahrenheit to Celsius."
   ]
  },
  {
   "cell_type": "code",
   "execution_count": 8,
   "id": "ceb09b71",
   "metadata": {},
   "outputs": [
    {
     "name": "stdout",
     "output_type": "stream",
     "text": [
      "Enter fahrenheit temperature :5\n"
     ]
    }
   ],
   "source": [
    "fahrenheit_temp = int (input(\"Enter fahrenheit temperature :\"))"
   ]
  },
  {
   "cell_type": "code",
   "execution_count": 9,
   "id": "d8a30874",
   "metadata": {},
   "outputs": [],
   "source": [
    "Celsius_temp = 5/9 * (fahrenheit_temp - 32)"
   ]
  },
  {
   "cell_type": "code",
   "execution_count": 10,
   "id": "1596b110",
   "metadata": {},
   "outputs": [
    {
     "name": "stdout",
     "output_type": "stream",
     "text": [
      "converted from Fahrenheit to Celsius is : -15.0\n"
     ]
    }
   ],
   "source": [
    "print (\"converted from Fahrenheit to Celsius is :\", Celsius_temp)"
   ]
  },
  {
   "cell_type": "code",
   "execution_count": null,
   "id": "d94aa31b",
   "metadata": {},
   "outputs": [],
   "source": []
  },
  {
   "cell_type": "code",
   "execution_count": null,
   "id": "aef80e0a",
   "metadata": {},
   "outputs": [],
   "source": []
  },
  {
   "cell_type": "markdown",
   "id": "b694cd30",
   "metadata": {},
   "source": [
    "4. Write a program that calculates the volume of a sphere given its radius."
   ]
  },
  {
   "cell_type": "code",
   "execution_count": 11,
   "id": "fc34e3d8",
   "metadata": {},
   "outputs": [],
   "source": [
    "pie = 3.142"
   ]
  },
  {
   "cell_type": "code",
   "execution_count": 12,
   "id": "5d44c8d4",
   "metadata": {},
   "outputs": [
    {
     "name": "stdout",
     "output_type": "stream",
     "text": [
      " Enter the value of radius :5\n"
     ]
    }
   ],
   "source": [
    "radius = int (input (\" Enter the value of radius :\"))"
   ]
  },
  {
   "cell_type": "code",
   "execution_count": 13,
   "id": "c6d45fda",
   "metadata": {},
   "outputs": [],
   "source": [
    "volume_of_sphere = 4/3 * pie * ( radius**3 )"
   ]
  },
  {
   "cell_type": "code",
   "execution_count": 14,
   "id": "a5cf7853",
   "metadata": {},
   "outputs": [
    {
     "name": "stdout",
     "output_type": "stream",
     "text": [
      "volume of sphere =  523.6666666666666\n"
     ]
    }
   ],
   "source": [
    "print ( \"volume of sphere = \", volume_of_sphere )"
   ]
  },
  {
   "cell_type": "code",
   "execution_count": null,
   "id": "430c94b5",
   "metadata": {},
   "outputs": [],
   "source": []
  },
  {
   "cell_type": "code",
   "execution_count": null,
   "id": "bea0d565",
   "metadata": {},
   "outputs": [],
   "source": []
  },
  {
   "cell_type": "markdown",
   "id": "0f68d9e9",
   "metadata": {},
   "source": [
    "5. Write a program that finds the average of three numbers."
   ]
  },
  {
   "cell_type": "code",
   "execution_count": 15,
   "id": "fdb03f64",
   "metadata": {},
   "outputs": [
    {
     "name": "stdout",
     "output_type": "stream",
     "text": [
      "Enter the first number: 1\n",
      "Enter the second number: 2\n",
      "Enter the third number: 3\n"
     ]
    }
   ],
   "source": [
    "num1 = float(input(\"Enter the first number: \"))\n",
    "num2 = float(input(\"Enter the second number: \"))\n",
    "num3 = float(input(\"Enter the third number: \"))"
   ]
  },
  {
   "cell_type": "code",
   "execution_count": 17,
   "id": "bbbcb9a1",
   "metadata": {},
   "outputs": [],
   "source": [
    "average = (num1 + num2 + num3) / 3"
   ]
  },
  {
   "cell_type": "code",
   "execution_count": 20,
   "id": "0527836c",
   "metadata": {},
   "outputs": [
    {
     "name": "stdout",
     "output_type": "stream",
     "text": [
      "The average of 1.0, 2.0, and 3.0 is 2.0\n"
     ]
    }
   ],
   "source": [
    "print(f\"The average of {num1}, {num2}, and {num3} is {average:}\")"
   ]
  },
  {
   "cell_type": "code",
   "execution_count": null,
   "id": "20962e13",
   "metadata": {},
   "outputs": [],
   "source": []
  },
  {
   "cell_type": "code",
   "execution_count": null,
   "id": "ec0f7592",
   "metadata": {},
   "outputs": [],
   "source": []
  }
 ],
 "metadata": {
  "kernelspec": {
   "display_name": "Python 3 (ipykernel)",
   "language": "python",
   "name": "python3"
  },
  "language_info": {
   "codemirror_mode": {
    "name": "ipython",
    "version": 3
   },
   "file_extension": ".py",
   "mimetype": "text/x-python",
   "name": "python",
   "nbconvert_exporter": "python",
   "pygments_lexer": "ipython3",
   "version": "3.11.7"
  }
 },
 "nbformat": 4,
 "nbformat_minor": 5
}
