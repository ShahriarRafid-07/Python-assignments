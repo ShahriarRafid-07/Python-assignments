{
 "cells": [
  {
   "cell_type": "markdown",
   "id": "1f495609",
   "metadata": {},
   "source": [
    "Write a program that finds the sum of all even numbers between 1 and `n`."
   ]
  },
  {
   "cell_type": "code",
   "execution_count": 10,
   "id": "612e8e07",
   "metadata": {},
   "outputs": [],
   "source": [
    "n = 20\n",
    "i = 1\n",
    "sum_even = 0"
   ]
  },
  {
   "cell_type": "code",
   "execution_count": 12,
   "id": "169f363b",
   "metadata": {},
   "outputs": [],
   "source": [
    "while i <= n:\n",
    "    if i%2 == 0:\n",
    "        sum_even += 1\n",
    "    i += 1    "
   ]
  },
  {
   "cell_type": "code",
   "execution_count": 15,
   "id": "063aab48",
   "metadata": {},
   "outputs": [
    {
     "name": "stdout",
     "output_type": "stream",
     "text": [
      "the sum of all even numbers between 1 & 20 are 10\n"
     ]
    }
   ],
   "source": [
    "print (f\"the sum of all even numbers between 1 & {n} are {sum_even}\")"
   ]
  },
  {
   "cell_type": "code",
   "execution_count": null,
   "id": "e15fc2c1",
   "metadata": {},
   "outputs": [],
   "source": []
  },
  {
   "cell_type": "code",
   "execution_count": null,
   "id": "5be5ed73",
   "metadata": {},
   "outputs": [],
   "source": []
  },
  {
   "cell_type": "markdown",
   "id": "44347e6f",
   "metadata": {},
   "source": [
    "Write a program that reverses a given number."
   ]
  },
  {
   "cell_type": "code",
   "execution_count": 16,
   "id": "45bae394",
   "metadata": {},
   "outputs": [],
   "source": [
    "num = 12345\n",
    "\n",
    "reversed_num = 0\n",
    "temp_num = num"
   ]
  },
  {
   "cell_type": "code",
   "execution_count": 17,
   "id": "a4b68826",
   "metadata": {},
   "outputs": [
    {
     "name": "stdout",
     "output_type": "stream",
     "text": [
      "The reverse of 12345 is: 54321\n"
     ]
    }
   ],
   "source": [
    "while temp_num > 0:\n",
    "    digit = temp_num % 10       \n",
    "    reversed_num = reversed_num * 10 + digit  \n",
    "    temp_num = temp_num // 10    \n",
    "\n",
    "print(f\"The reverse of {num} is: {reversed_num}\")"
   ]
  },
  {
   "cell_type": "code",
   "execution_count": null,
   "id": "561a0165",
   "metadata": {},
   "outputs": [],
   "source": []
  },
  {
   "cell_type": "code",
   "execution_count": null,
   "id": "bd65966a",
   "metadata": {},
   "outputs": [],
   "source": []
  },
  {
   "cell_type": "markdown",
   "id": "84b13fbb",
   "metadata": {},
   "source": [
    "Write a program that checks if a given string, is a palindrome."
   ]
  },
  {
   "cell_type": "code",
   "execution_count": 29,
   "id": "8ef67016",
   "metadata": {},
   "outputs": [],
   "source": [
    "s = \"madam\"\n",
    "\n",
    "left = 0\n",
    "right = len(s) - 1"
   ]
  },
  {
   "cell_type": "code",
   "execution_count": 30,
   "id": "badb09dd",
   "metadata": {},
   "outputs": [
    {
     "name": "stdout",
     "output_type": "stream",
     "text": [
      "\"madam\" is a palindrome.\n"
     ]
    }
   ],
   "source": [
    "while left < right:\n",
    "    if s[left] != s[right]:\n",
    "        print(f'\"{s}\" is not a palindrome.')\n",
    "        break\n",
    "    left += 1\n",
    "    right -= 1\n",
    "else:\n",
    "    print(f'\"{s}\" is a palindrome.')"
   ]
  },
  {
   "cell_type": "code",
   "execution_count": null,
   "id": "3e412fdc",
   "metadata": {},
   "outputs": [],
   "source": []
  },
  {
   "cell_type": "code",
   "execution_count": null,
   "id": "12021bce",
   "metadata": {},
   "outputs": [],
   "source": []
  },
  {
   "cell_type": "markdown",
   "id": "efc7e605",
   "metadata": {},
   "source": [
    "Write a program that generates a random number and allows the user to guess it."
   ]
  },
  {
   "cell_type": "code",
   "execution_count": 32,
   "id": "90277878",
   "metadata": {},
   "outputs": [],
   "source": [
    "import random"
   ]
  },
  {
   "cell_type": "code",
   "execution_count": 33,
   "id": "3946d6c3",
   "metadata": {},
   "outputs": [],
   "source": [
    "random_number = random.randint(1, 100)"
   ]
  },
  {
   "cell_type": "code",
   "execution_count": 34,
   "id": "c8036a98",
   "metadata": {},
   "outputs": [
    {
     "name": "stdout",
     "output_type": "stream",
     "text": [
      "Guess the number (between 1 and 100):\n"
     ]
    }
   ],
   "source": [
    "print(\"Guess the number (between 1 and 100):\")"
   ]
  },
  {
   "cell_type": "code",
   "execution_count": 37,
   "id": "9dc9e29d",
   "metadata": {},
   "outputs": [
    {
     "name": "stdout",
     "output_type": "stream",
     "text": [
      "Enter your guess: 75\n",
      "Too high! Try again.\n"
     ]
    }
   ],
   "source": [
    "while True:\n",
    "    guess = int(input(\"Enter your guess: \"))\n",
    "    \n",
    "    if guess < random_number:\n",
    "        print(\"Too low! Try again.\")\n",
    "    elif guess > random_number:\n",
    "        print(\"Too high! Try again.\")\n",
    "    else:\n",
    "        print(\"Congratulations! You guessed the correct number.\")\n",
    "        \n",
    "    break"
   ]
  },
  {
   "cell_type": "code",
   "execution_count": null,
   "id": "211e8bda",
   "metadata": {},
   "outputs": [],
   "source": []
  },
  {
   "cell_type": "code",
   "execution_count": null,
   "id": "98d050dc",
   "metadata": {},
   "outputs": [],
   "source": []
  },
  {
   "cell_type": "markdown",
   "id": "7110c1fc",
   "metadata": {},
   "source": [
    "Write a program that finds the greatest common divisor (GCD) of two numbers."
   ]
  },
  {
   "cell_type": "code",
   "execution_count": 38,
   "id": "5ff95319",
   "metadata": {},
   "outputs": [],
   "source": [
    "a = 48\n",
    "b = 18"
   ]
  },
  {
   "cell_type": "code",
   "execution_count": 39,
   "id": "ce59a9c7",
   "metadata": {},
   "outputs": [],
   "source": [
    "if a < b:\n",
    "    a, b = b, a\n"
   ]
  },
  {
   "cell_type": "code",
   "execution_count": 40,
   "id": "36bb4395",
   "metadata": {},
   "outputs": [],
   "source": [
    "while b != 0:\n",
    "    a, b = b, a % b"
   ]
  },
  {
   "cell_type": "code",
   "execution_count": 41,
   "id": "c3d15238",
   "metadata": {},
   "outputs": [
    {
     "name": "stdout",
     "output_type": "stream",
     "text": [
      "The greatest common divisor (GCD) is: 6\n"
     ]
    }
   ],
   "source": [
    "print(f\"The greatest common divisor (GCD) is: {a}\")"
   ]
  },
  {
   "cell_type": "code",
   "execution_count": null,
   "id": "95b9f63b",
   "metadata": {},
   "outputs": [],
   "source": []
  }
 ],
 "metadata": {
  "kernelspec": {
   "display_name": "Python 3 (ipykernel)",
   "language": "python",
   "name": "python3"
  },
  "language_info": {
   "codemirror_mode": {
    "name": "ipython",
    "version": 3
   },
   "file_extension": ".py",
   "mimetype": "text/x-python",
   "name": "python",
   "nbconvert_exporter": "python",
   "pygments_lexer": "ipython3",
   "version": "3.11.7"
  }
 },
 "nbformat": 4,
 "nbformat_minor": 5
}
